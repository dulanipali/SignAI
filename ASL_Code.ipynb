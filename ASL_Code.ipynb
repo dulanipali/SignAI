{
 "cells": [
  {
   "cell_type": "code",
   "execution_count": 2,
   "id": "6a0cc2e7-5735-42f2-a64b-fab81215e7b9",
   "metadata": {},
   "outputs": [
    {
     "name": "stdout",
     "output_type": "stream",
     "text": [
      "Collecting pandas\n",
      "  Downloading pandas-2.2.3-cp312-cp312-win_amd64.whl.metadata (19 kB)\n",
      "Collecting numpy>=1.26.0 (from pandas)\n",
      "  Downloading numpy-2.1.3-cp312-cp312-win_amd64.whl.metadata (60 kB)\n",
      "     ---------------------------------------- 0.0/60.8 kB ? eta -:--:--\n",
      "     -------------------- ------------------- 30.7/60.8 kB 1.3 MB/s eta 0:00:01\n",
      "     ---------------------------------------- 60.8/60.8 kB 1.1 MB/s eta 0:00:00\n",
      "Requirement already satisfied: python-dateutil>=2.8.2 in c:\\users\\dulan\\miniconda3\\lib\\site-packages (from pandas) (2.9.0.post0)\n",
      "Collecting pytz>=2020.1 (from pandas)\n",
      "  Downloading pytz-2024.2-py2.py3-none-any.whl.metadata (22 kB)\n",
      "Collecting tzdata>=2022.7 (from pandas)\n",
      "  Downloading tzdata-2024.2-py2.py3-none-any.whl.metadata (1.4 kB)\n",
      "Requirement already satisfied: six>=1.5 in c:\\users\\dulan\\miniconda3\\lib\\site-packages (from python-dateutil>=2.8.2->pandas) (1.16.0)\n",
      "Downloading pandas-2.2.3-cp312-cp312-win_amd64.whl (11.5 MB)\n",
      "   ---------------------------------------- 0.0/11.5 MB ? eta -:--:--\n",
      "   - -------------------------------------- 0.5/11.5 MB 15.2 MB/s eta 0:00:01\n",
      "   ---- ----------------------------------- 1.3/11.5 MB 16.7 MB/s eta 0:00:01\n",
      "   ------- -------------------------------- 2.1/11.5 MB 16.8 MB/s eta 0:00:01\n",
      "   ---------- ----------------------------- 2.9/11.5 MB 16.8 MB/s eta 0:00:01\n",
      "   ------------- -------------------------- 3.9/11.5 MB 17.6 MB/s eta 0:00:01\n",
      "   ---------------- ----------------------- 4.8/11.5 MB 18.1 MB/s eta 0:00:01\n",
      "   ------------------- -------------------- 5.6/11.5 MB 17.8 MB/s eta 0:00:01\n",
      "   -------------------- ------------------- 5.9/11.5 MB 18.0 MB/s eta 0:00:01\n",
      "   --------------------- ------------------ 6.3/11.5 MB 15.5 MB/s eta 0:00:01\n",
      "   ------------------------ --------------- 7.0/11.5 MB 16.0 MB/s eta 0:00:01\n",
      "   ------------------------- -------------- 7.5/11.5 MB 14.9 MB/s eta 0:00:01\n",
      "   ----------------------------- ---------- 8.4/11.5 MB 15.4 MB/s eta 0:00:01\n",
      "   ------------------------------- -------- 8.9/11.5 MB 15.1 MB/s eta 0:00:01\n",
      "   ----------------------------------- ---- 10.1/11.5 MB 15.7 MB/s eta 0:00:01\n",
      "   ------------------------------------- -- 10.7/11.5 MB 16.0 MB/s eta 0:00:01\n",
      "   ---------------------------------------  11.5/11.5 MB 16.0 MB/s eta 0:00:01\n",
      "   ---------------------------------------- 11.5/11.5 MB 15.2 MB/s eta 0:00:00\n",
      "Downloading numpy-2.1.3-cp312-cp312-win_amd64.whl (12.6 MB)\n",
      "   ---------------------------------------- 0.0/12.6 MB ? eta -:--:--\n",
      "   - -------------------------------------- 0.6/12.6 MB 18.8 MB/s eta 0:00:01\n",
      "   --- ------------------------------------ 1.2/12.6 MB 19.3 MB/s eta 0:00:01\n",
      "   ---- ----------------------------------- 1.5/12.6 MB 13.5 MB/s eta 0:00:01\n",
      "   ------ --------------------------------- 1.9/12.6 MB 11.1 MB/s eta 0:00:01\n",
      "   -------- ------------------------------- 2.5/12.6 MB 11.5 MB/s eta 0:00:01\n",
      "   --------- ------------------------------ 2.9/12.6 MB 11.5 MB/s eta 0:00:01\n",
      "   --------- ------------------------------ 3.0/12.6 MB 10.0 MB/s eta 0:00:01\n",
      "   ----------- ---------------------------- 3.5/12.6 MB 9.6 MB/s eta 0:00:01\n",
      "   ------------ --------------------------- 3.9/12.6 MB 9.5 MB/s eta 0:00:01\n",
      "   ------------- -------------------------- 4.2/12.6 MB 9.3 MB/s eta 0:00:01\n",
      "   --------------- ------------------------ 4.7/12.6 MB 9.8 MB/s eta 0:00:01\n",
      "   ---------------- ----------------------- 5.2/12.6 MB 9.5 MB/s eta 0:00:01\n",
      "   ------------------- -------------------- 6.0/12.6 MB 10.2 MB/s eta 0:00:01\n",
      "   -------------------- ------------------- 6.5/12.6 MB 10.3 MB/s eta 0:00:01\n",
      "   ---------------------- ----------------- 6.9/12.6 MB 10.3 MB/s eta 0:00:01\n",
      "   ---------------------- ----------------- 7.1/12.6 MB 9.9 MB/s eta 0:00:01\n",
      "   ----------------------- ---------------- 7.4/12.6 MB 9.6 MB/s eta 0:00:01\n",
      "   ----------------------- ---------------- 7.5/12.6 MB 9.0 MB/s eta 0:00:01\n",
      "   ------------------------- -------------- 8.0/12.6 MB 9.3 MB/s eta 0:00:01\n",
      "   ------------------------- -------------- 8.0/12.6 MB 9.3 MB/s eta 0:00:01\n",
      "   -------------------------- ------------- 8.5/12.6 MB 8.7 MB/s eta 0:00:01\n",
      "   ---------------------------- ----------- 8.8/12.6 MB 9.0 MB/s eta 0:00:01\n",
      "   ----------------------------- ---------- 9.2/12.6 MB 8.7 MB/s eta 0:00:01\n",
      "   ------------------------------- -------- 9.8/12.6 MB 9.0 MB/s eta 0:00:01\n",
      "   ------------------------------- -------- 9.8/12.6 MB 9.0 MB/s eta 0:00:01\n",
      "   --------------------------------- ------ 10.5/12.6 MB 8.7 MB/s eta 0:00:01\n",
      "   --------------------------------- ------ 10.5/12.6 MB 8.6 MB/s eta 0:00:01\n",
      "   ----------------------------------- ---- 11.2/12.6 MB 8.3 MB/s eta 0:00:01\n",
      "   ----------------------------------- ---- 11.2/12.6 MB 8.3 MB/s eta 0:00:01\n",
      "   ------------------------------------- -- 11.8/12.6 MB 8.4 MB/s eta 0:00:01\n",
      "   -------------------------------------- - 12.1/12.6 MB 8.4 MB/s eta 0:00:01\n",
      "   ---------------------------------------  12.6/12.6 MB 8.2 MB/s eta 0:00:01\n",
      "   ---------------------------------------  12.6/12.6 MB 8.2 MB/s eta 0:00:01\n",
      "   ---------------------------------------- 12.6/12.6 MB 7.7 MB/s eta 0:00:00\n",
      "Downloading pytz-2024.2-py2.py3-none-any.whl (508 kB)\n",
      "   ---------------------------------------- 0.0/508.0 kB ? eta -:--:--\n",
      "   --------------------------------------- 508.0/508.0 kB 10.6 MB/s eta 0:00:00\n",
      "Downloading tzdata-2024.2-py2.py3-none-any.whl (346 kB)\n",
      "   ---------------------------------------- 0.0/346.6 kB ? eta -:--:--\n",
      "   --------------------------------------- 346.6/346.6 kB 10.8 MB/s eta 0:00:00\n",
      "Installing collected packages: pytz, tzdata, numpy, pandas\n",
      "Successfully installed numpy-2.1.3 pandas-2.2.3 pytz-2024.2 tzdata-2024.2\n",
      "Note: you may need to restart the kernel to use updated packages.\n"
     ]
    }
   ],
   "source": [
    "pip install pandas"
   ]
  },
  {
   "cell_type": "code",
   "execution_count": 1,
   "id": "46bbd616-0ae8-4b5c-8d1c-51b4c3024171",
   "metadata": {},
   "outputs": [
    {
     "ename": "ImportError",
     "evalue": "Install huggingface_hub to access HfFileSystem",
     "output_type": "error",
     "traceback": [
      "\u001b[1;31m---------------------------------------------------------------------------\u001b[0m",
      "\u001b[1;31mModuleNotFoundError\u001b[0m                       Traceback (most recent call last)",
      "File \u001b[1;32m~\\miniconda3\\Lib\\site-packages\\fsspec\\registry.py:242\u001b[0m, in \u001b[0;36mget_filesystem_class\u001b[1;34m(protocol)\u001b[0m\n\u001b[0;32m    241\u001b[0m \u001b[38;5;28;01mtry\u001b[39;00m:\n\u001b[1;32m--> 242\u001b[0m     register_implementation(protocol, \u001b[43m_import_class\u001b[49m\u001b[43m(\u001b[49m\u001b[43mbit\u001b[49m\u001b[43m[\u001b[49m\u001b[38;5;124;43m\"\u001b[39;49m\u001b[38;5;124;43mclass\u001b[39;49m\u001b[38;5;124;43m\"\u001b[39;49m\u001b[43m]\u001b[49m\u001b[43m)\u001b[49m)\n\u001b[0;32m    243\u001b[0m \u001b[38;5;28;01mexcept\u001b[39;00m \u001b[38;5;167;01mImportError\u001b[39;00m \u001b[38;5;28;01mas\u001b[39;00m e:\n",
      "File \u001b[1;32m~\\miniconda3\\Lib\\site-packages\\fsspec\\registry.py:277\u001b[0m, in \u001b[0;36m_import_class\u001b[1;34m(fqp)\u001b[0m\n\u001b[0;32m    276\u001b[0m is_s3 \u001b[38;5;241m=\u001b[39m mod \u001b[38;5;241m==\u001b[39m \u001b[38;5;124m\"\u001b[39m\u001b[38;5;124ms3fs\u001b[39m\u001b[38;5;124m\"\u001b[39m\n\u001b[1;32m--> 277\u001b[0m mod \u001b[38;5;241m=\u001b[39m \u001b[43mimportlib\u001b[49m\u001b[38;5;241;43m.\u001b[39;49m\u001b[43mimport_module\u001b[49m\u001b[43m(\u001b[49m\u001b[43mmod\u001b[49m\u001b[43m)\u001b[49m\n\u001b[0;32m    278\u001b[0m \u001b[38;5;28;01mif\u001b[39;00m is_s3 \u001b[38;5;129;01mand\u001b[39;00m mod\u001b[38;5;241m.\u001b[39m__version__\u001b[38;5;241m.\u001b[39msplit(\u001b[38;5;124m\"\u001b[39m\u001b[38;5;124m.\u001b[39m\u001b[38;5;124m\"\u001b[39m) \u001b[38;5;241m<\u001b[39m [\u001b[38;5;124m\"\u001b[39m\u001b[38;5;124m0\u001b[39m\u001b[38;5;124m\"\u001b[39m, \u001b[38;5;124m\"\u001b[39m\u001b[38;5;124m5\u001b[39m\u001b[38;5;124m\"\u001b[39m]:\n",
      "File \u001b[1;32m~\\miniconda3\\Lib\\importlib\\__init__.py:90\u001b[0m, in \u001b[0;36mimport_module\u001b[1;34m(name, package)\u001b[0m\n\u001b[0;32m     89\u001b[0m         level \u001b[38;5;241m+\u001b[39m\u001b[38;5;241m=\u001b[39m \u001b[38;5;241m1\u001b[39m\n\u001b[1;32m---> 90\u001b[0m \u001b[38;5;28;01mreturn\u001b[39;00m \u001b[43m_bootstrap\u001b[49m\u001b[38;5;241;43m.\u001b[39;49m\u001b[43m_gcd_import\u001b[49m\u001b[43m(\u001b[49m\u001b[43mname\u001b[49m\u001b[43m[\u001b[49m\u001b[43mlevel\u001b[49m\u001b[43m:\u001b[49m\u001b[43m]\u001b[49m\u001b[43m,\u001b[49m\u001b[43m \u001b[49m\u001b[43mpackage\u001b[49m\u001b[43m,\u001b[49m\u001b[43m \u001b[49m\u001b[43mlevel\u001b[49m\u001b[43m)\u001b[49m\n",
      "File \u001b[1;32m<frozen importlib._bootstrap>:1387\u001b[0m, in \u001b[0;36m_gcd_import\u001b[1;34m(name, package, level)\u001b[0m\n",
      "File \u001b[1;32m<frozen importlib._bootstrap>:1360\u001b[0m, in \u001b[0;36m_find_and_load\u001b[1;34m(name, import_)\u001b[0m\n",
      "File \u001b[1;32m<frozen importlib._bootstrap>:1324\u001b[0m, in \u001b[0;36m_find_and_load_unlocked\u001b[1;34m(name, import_)\u001b[0m\n",
      "\u001b[1;31mModuleNotFoundError\u001b[0m: No module named 'huggingface_hub'",
      "\nThe above exception was the direct cause of the following exception:\n",
      "\u001b[1;31mImportError\u001b[0m                               Traceback (most recent call last)",
      "Cell \u001b[1;32mIn[1], line 2\u001b[0m\n\u001b[0;32m      1\u001b[0m \u001b[38;5;28;01mimport\u001b[39;00m \u001b[38;5;21;01mpandas\u001b[39;00m \u001b[38;5;28;01mas\u001b[39;00m \u001b[38;5;21;01mpd\u001b[39;00m\n\u001b[1;32m----> 2\u001b[0m df \u001b[38;5;241m=\u001b[39m \u001b[43mpd\u001b[49m\u001b[38;5;241;43m.\u001b[39;49m\u001b[43mread_parquet\u001b[49m\u001b[43m(\u001b[49m\u001b[38;5;124;43m\"\u001b[39;49m\u001b[38;5;124;43mhf://datasets/Marxulia/asl_sign_languages_alphabets_v03/data/train-00000-of-00001.parquet\u001b[39;49m\u001b[38;5;124;43m\"\u001b[39;49m\u001b[43m)\u001b[49m\n",
      "File \u001b[1;32m~\\miniconda3\\Lib\\site-packages\\pandas\\io\\parquet.py:667\u001b[0m, in \u001b[0;36mread_parquet\u001b[1;34m(path, engine, columns, storage_options, use_nullable_dtypes, dtype_backend, filesystem, filters, **kwargs)\u001b[0m\n\u001b[0;32m    664\u001b[0m     use_nullable_dtypes \u001b[38;5;241m=\u001b[39m \u001b[38;5;28;01mFalse\u001b[39;00m\n\u001b[0;32m    665\u001b[0m check_dtype_backend(dtype_backend)\n\u001b[1;32m--> 667\u001b[0m \u001b[38;5;28;01mreturn\u001b[39;00m \u001b[43mimpl\u001b[49m\u001b[38;5;241;43m.\u001b[39;49m\u001b[43mread\u001b[49m\u001b[43m(\u001b[49m\n\u001b[0;32m    668\u001b[0m \u001b[43m    \u001b[49m\u001b[43mpath\u001b[49m\u001b[43m,\u001b[49m\n\u001b[0;32m    669\u001b[0m \u001b[43m    \u001b[49m\u001b[43mcolumns\u001b[49m\u001b[38;5;241;43m=\u001b[39;49m\u001b[43mcolumns\u001b[49m\u001b[43m,\u001b[49m\n\u001b[0;32m    670\u001b[0m \u001b[43m    \u001b[49m\u001b[43mfilters\u001b[49m\u001b[38;5;241;43m=\u001b[39;49m\u001b[43mfilters\u001b[49m\u001b[43m,\u001b[49m\n\u001b[0;32m    671\u001b[0m \u001b[43m    \u001b[49m\u001b[43mstorage_options\u001b[49m\u001b[38;5;241;43m=\u001b[39;49m\u001b[43mstorage_options\u001b[49m\u001b[43m,\u001b[49m\n\u001b[0;32m    672\u001b[0m \u001b[43m    \u001b[49m\u001b[43muse_nullable_dtypes\u001b[49m\u001b[38;5;241;43m=\u001b[39;49m\u001b[43muse_nullable_dtypes\u001b[49m\u001b[43m,\u001b[49m\n\u001b[0;32m    673\u001b[0m \u001b[43m    \u001b[49m\u001b[43mdtype_backend\u001b[49m\u001b[38;5;241;43m=\u001b[39;49m\u001b[43mdtype_backend\u001b[49m\u001b[43m,\u001b[49m\n\u001b[0;32m    674\u001b[0m \u001b[43m    \u001b[49m\u001b[43mfilesystem\u001b[49m\u001b[38;5;241;43m=\u001b[39;49m\u001b[43mfilesystem\u001b[49m\u001b[43m,\u001b[49m\n\u001b[0;32m    675\u001b[0m \u001b[43m    \u001b[49m\u001b[38;5;241;43m*\u001b[39;49m\u001b[38;5;241;43m*\u001b[39;49m\u001b[43mkwargs\u001b[49m\u001b[43m,\u001b[49m\n\u001b[0;32m    676\u001b[0m \u001b[43m\u001b[49m\u001b[43m)\u001b[49m\n",
      "File \u001b[1;32m~\\miniconda3\\Lib\\site-packages\\pandas\\io\\parquet.py:267\u001b[0m, in \u001b[0;36mPyArrowImpl.read\u001b[1;34m(self, path, columns, filters, use_nullable_dtypes, dtype_backend, storage_options, filesystem, **kwargs)\u001b[0m\n\u001b[0;32m    264\u001b[0m \u001b[38;5;28;01mif\u001b[39;00m manager \u001b[38;5;241m==\u001b[39m \u001b[38;5;124m\"\u001b[39m\u001b[38;5;124marray\u001b[39m\u001b[38;5;124m\"\u001b[39m:\n\u001b[0;32m    265\u001b[0m     to_pandas_kwargs[\u001b[38;5;124m\"\u001b[39m\u001b[38;5;124msplit_blocks\u001b[39m\u001b[38;5;124m\"\u001b[39m] \u001b[38;5;241m=\u001b[39m \u001b[38;5;28;01mTrue\u001b[39;00m  \u001b[38;5;66;03m# type: ignore[assignment]\u001b[39;00m\n\u001b[1;32m--> 267\u001b[0m path_or_handle, handles, filesystem \u001b[38;5;241m=\u001b[39m \u001b[43m_get_path_or_handle\u001b[49m\u001b[43m(\u001b[49m\n\u001b[0;32m    268\u001b[0m \u001b[43m    \u001b[49m\u001b[43mpath\u001b[49m\u001b[43m,\u001b[49m\n\u001b[0;32m    269\u001b[0m \u001b[43m    \u001b[49m\u001b[43mfilesystem\u001b[49m\u001b[43m,\u001b[49m\n\u001b[0;32m    270\u001b[0m \u001b[43m    \u001b[49m\u001b[43mstorage_options\u001b[49m\u001b[38;5;241;43m=\u001b[39;49m\u001b[43mstorage_options\u001b[49m\u001b[43m,\u001b[49m\n\u001b[0;32m    271\u001b[0m \u001b[43m    \u001b[49m\u001b[43mmode\u001b[49m\u001b[38;5;241;43m=\u001b[39;49m\u001b[38;5;124;43m\"\u001b[39;49m\u001b[38;5;124;43mrb\u001b[39;49m\u001b[38;5;124;43m\"\u001b[39;49m\u001b[43m,\u001b[49m\n\u001b[0;32m    272\u001b[0m \u001b[43m\u001b[49m\u001b[43m)\u001b[49m\n\u001b[0;32m    273\u001b[0m \u001b[38;5;28;01mtry\u001b[39;00m:\n\u001b[0;32m    274\u001b[0m     pa_table \u001b[38;5;241m=\u001b[39m \u001b[38;5;28mself\u001b[39m\u001b[38;5;241m.\u001b[39mapi\u001b[38;5;241m.\u001b[39mparquet\u001b[38;5;241m.\u001b[39mread_table(\n\u001b[0;32m    275\u001b[0m         path_or_handle,\n\u001b[0;32m    276\u001b[0m         columns\u001b[38;5;241m=\u001b[39mcolumns,\n\u001b[1;32m   (...)\u001b[0m\n\u001b[0;32m    279\u001b[0m         \u001b[38;5;241m*\u001b[39m\u001b[38;5;241m*\u001b[39mkwargs,\n\u001b[0;32m    280\u001b[0m     )\n",
      "File \u001b[1;32m~\\miniconda3\\Lib\\site-packages\\pandas\\io\\parquet.py:122\u001b[0m, in \u001b[0;36m_get_path_or_handle\u001b[1;34m(path, fs, storage_options, mode, is_dir)\u001b[0m\n\u001b[0;32m    120\u001b[0m     \u001b[38;5;28;01mif\u001b[39;00m fs \u001b[38;5;129;01mis\u001b[39;00m \u001b[38;5;28;01mNone\u001b[39;00m:\n\u001b[0;32m    121\u001b[0m         fsspec \u001b[38;5;241m=\u001b[39m import_optional_dependency(\u001b[38;5;124m\"\u001b[39m\u001b[38;5;124mfsspec\u001b[39m\u001b[38;5;124m\"\u001b[39m)\n\u001b[1;32m--> 122\u001b[0m         fs, path_or_handle \u001b[38;5;241m=\u001b[39m \u001b[43mfsspec\u001b[49m\u001b[38;5;241;43m.\u001b[39;49m\u001b[43mcore\u001b[49m\u001b[38;5;241;43m.\u001b[39;49m\u001b[43murl_to_fs\u001b[49m\u001b[43m(\u001b[49m\n\u001b[0;32m    123\u001b[0m \u001b[43m            \u001b[49m\u001b[43mpath_or_handle\u001b[49m\u001b[43m,\u001b[49m\u001b[43m \u001b[49m\u001b[38;5;241;43m*\u001b[39;49m\u001b[38;5;241;43m*\u001b[39;49m\u001b[43m(\u001b[49m\u001b[43mstorage_options\u001b[49m\u001b[43m \u001b[49m\u001b[38;5;129;43;01mor\u001b[39;49;00m\u001b[43m \u001b[49m\u001b[43m{\u001b[49m\u001b[43m}\u001b[49m\u001b[43m)\u001b[49m\n\u001b[0;32m    124\u001b[0m \u001b[43m        \u001b[49m\u001b[43m)\u001b[49m\n\u001b[0;32m    125\u001b[0m \u001b[38;5;28;01melif\u001b[39;00m storage_options \u001b[38;5;129;01mand\u001b[39;00m (\u001b[38;5;129;01mnot\u001b[39;00m is_url(path_or_handle) \u001b[38;5;129;01mor\u001b[39;00m mode \u001b[38;5;241m!=\u001b[39m \u001b[38;5;124m\"\u001b[39m\u001b[38;5;124mrb\u001b[39m\u001b[38;5;124m\"\u001b[39m):\n\u001b[0;32m    126\u001b[0m     \u001b[38;5;66;03m# can't write to a remote url\u001b[39;00m\n\u001b[0;32m    127\u001b[0m     \u001b[38;5;66;03m# without making use of fsspec at the moment\u001b[39;00m\n\u001b[0;32m    128\u001b[0m     \u001b[38;5;28;01mraise\u001b[39;00m \u001b[38;5;167;01mValueError\u001b[39;00m(\u001b[38;5;124m\"\u001b[39m\u001b[38;5;124mstorage_options passed with buffer, or non-supported URL\u001b[39m\u001b[38;5;124m\"\u001b[39m)\n",
      "File \u001b[1;32m~\\miniconda3\\Lib\\site-packages\\fsspec\\core.py:399\u001b[0m, in \u001b[0;36murl_to_fs\u001b[1;34m(url, **kwargs)\u001b[0m\n\u001b[0;32m    388\u001b[0m known_kwargs \u001b[38;5;241m=\u001b[39m {\n\u001b[0;32m    389\u001b[0m     \u001b[38;5;124m\"\u001b[39m\u001b[38;5;124mcompression\u001b[39m\u001b[38;5;124m\"\u001b[39m,\n\u001b[0;32m    390\u001b[0m     \u001b[38;5;124m\"\u001b[39m\u001b[38;5;124mencoding\u001b[39m\u001b[38;5;124m\"\u001b[39m,\n\u001b[1;32m   (...)\u001b[0m\n\u001b[0;32m    396\u001b[0m     \u001b[38;5;124m\"\u001b[39m\u001b[38;5;124mnum\u001b[39m\u001b[38;5;124m\"\u001b[39m,\n\u001b[0;32m    397\u001b[0m }\n\u001b[0;32m    398\u001b[0m kwargs \u001b[38;5;241m=\u001b[39m {k: v \u001b[38;5;28;01mfor\u001b[39;00m k, v \u001b[38;5;129;01min\u001b[39;00m kwargs\u001b[38;5;241m.\u001b[39mitems() \u001b[38;5;28;01mif\u001b[39;00m k \u001b[38;5;129;01mnot\u001b[39;00m \u001b[38;5;129;01min\u001b[39;00m known_kwargs}\n\u001b[1;32m--> 399\u001b[0m chain \u001b[38;5;241m=\u001b[39m \u001b[43m_un_chain\u001b[49m\u001b[43m(\u001b[49m\u001b[43murl\u001b[49m\u001b[43m,\u001b[49m\u001b[43m \u001b[49m\u001b[43mkwargs\u001b[49m\u001b[43m)\u001b[49m\n\u001b[0;32m    400\u001b[0m inkwargs \u001b[38;5;241m=\u001b[39m {}\n\u001b[0;32m    401\u001b[0m \u001b[38;5;66;03m# Reverse iterate the chain, creating a nested target_* structure\u001b[39;00m\n",
      "File \u001b[1;32m~\\miniconda3\\Lib\\site-packages\\fsspec\\core.py:344\u001b[0m, in \u001b[0;36m_un_chain\u001b[1;34m(path, kwargs)\u001b[0m\n\u001b[0;32m    342\u001b[0m \u001b[38;5;28;01mfor\u001b[39;00m bit \u001b[38;5;129;01min\u001b[39;00m \u001b[38;5;28mreversed\u001b[39m(bits):\n\u001b[0;32m    343\u001b[0m     protocol \u001b[38;5;241m=\u001b[39m kwargs\u001b[38;5;241m.\u001b[39mpop(\u001b[38;5;124m\"\u001b[39m\u001b[38;5;124mprotocol\u001b[39m\u001b[38;5;124m\"\u001b[39m, \u001b[38;5;28;01mNone\u001b[39;00m) \u001b[38;5;129;01mor\u001b[39;00m split_protocol(bit)[\u001b[38;5;241m0\u001b[39m] \u001b[38;5;129;01mor\u001b[39;00m \u001b[38;5;124m\"\u001b[39m\u001b[38;5;124mfile\u001b[39m\u001b[38;5;124m\"\u001b[39m\n\u001b[1;32m--> 344\u001b[0m     \u001b[38;5;28mcls\u001b[39m \u001b[38;5;241m=\u001b[39m \u001b[43mget_filesystem_class\u001b[49m\u001b[43m(\u001b[49m\u001b[43mprotocol\u001b[49m\u001b[43m)\u001b[49m\n\u001b[0;32m    345\u001b[0m     extra_kwargs \u001b[38;5;241m=\u001b[39m \u001b[38;5;28mcls\u001b[39m\u001b[38;5;241m.\u001b[39m_get_kwargs_from_urls(bit)\n\u001b[0;32m    346\u001b[0m     kws \u001b[38;5;241m=\u001b[39m kwargs\u001b[38;5;241m.\u001b[39mpop(protocol, {})\n",
      "File \u001b[1;32m~\\miniconda3\\Lib\\site-packages\\fsspec\\registry.py:244\u001b[0m, in \u001b[0;36mget_filesystem_class\u001b[1;34m(protocol)\u001b[0m\n\u001b[0;32m    242\u001b[0m         register_implementation(protocol, _import_class(bit[\u001b[38;5;124m\"\u001b[39m\u001b[38;5;124mclass\u001b[39m\u001b[38;5;124m\"\u001b[39m]))\n\u001b[0;32m    243\u001b[0m     \u001b[38;5;28;01mexcept\u001b[39;00m \u001b[38;5;167;01mImportError\u001b[39;00m \u001b[38;5;28;01mas\u001b[39;00m e:\n\u001b[1;32m--> 244\u001b[0m         \u001b[38;5;28;01mraise\u001b[39;00m \u001b[38;5;167;01mImportError\u001b[39;00m(bit[\u001b[38;5;124m\"\u001b[39m\u001b[38;5;124merr\u001b[39m\u001b[38;5;124m\"\u001b[39m]) \u001b[38;5;28;01mfrom\u001b[39;00m \u001b[38;5;21;01me\u001b[39;00m\n\u001b[0;32m    245\u001b[0m \u001b[38;5;28mcls\u001b[39m \u001b[38;5;241m=\u001b[39m registry[protocol]\n\u001b[0;32m    246\u001b[0m \u001b[38;5;28;01mif\u001b[39;00m \u001b[38;5;28mgetattr\u001b[39m(\u001b[38;5;28mcls\u001b[39m, \u001b[38;5;124m\"\u001b[39m\u001b[38;5;124mprotocol\u001b[39m\u001b[38;5;124m\"\u001b[39m, \u001b[38;5;28;01mNone\u001b[39;00m) \u001b[38;5;129;01min\u001b[39;00m (\u001b[38;5;124m\"\u001b[39m\u001b[38;5;124mabstract\u001b[39m\u001b[38;5;124m\"\u001b[39m, \u001b[38;5;28;01mNone\u001b[39;00m):\n",
      "\u001b[1;31mImportError\u001b[0m: Install huggingface_hub to access HfFileSystem"
     ]
    }
   ],
   "source": [
    "import pandas as pd\n",
    "df = pd.read_parquet(\"hf://datasets/Marxulia/asl_sign_languages_alphabets_v03/data/train-00000-of-00001.parquet\")"
   ]
  },
  {
   "cell_type": "code",
   "execution_count": 8,
   "id": "37484f16-4c19-414d-b5a9-2c7c843eed30",
   "metadata": {},
   "outputs": [
    {
     "name": "stdout",
     "output_type": "stream",
     "text": [
      "Collecting pyarrow\n",
      "  Downloading pyarrow-18.0.0-cp312-cp312-win_amd64.whl.metadata (3.4 kB)\n",
      "Downloading pyarrow-18.0.0-cp312-cp312-win_amd64.whl (25.1 MB)\n",
      "   ---------------------------------------- 0.0/25.1 MB ? eta -:--:--\n",
      "   ---------------------------------------- 0.0/25.1 MB ? eta -:--:--\n",
      "   ---------------------------------------- 0.1/25.1 MB 1.1 MB/s eta 0:00:22\n",
      "    --------------------------------------- 0.3/25.1 MB 3.0 MB/s eta 0:00:09\n",
      "   - -------------------------------------- 0.7/25.1 MB 4.5 MB/s eta 0:00:06\n",
      "   - -------------------------------------- 1.0/25.1 MB 5.0 MB/s eta 0:00:05\n",
      "   - -------------------------------------- 1.2/25.1 MB 5.3 MB/s eta 0:00:05\n",
      "   -- ------------------------------------- 1.7/25.1 MB 5.8 MB/s eta 0:00:05\n",
      "   --- ------------------------------------ 2.4/25.1 MB 6.9 MB/s eta 0:00:04\n",
      "   ---- ----------------------------------- 2.9/25.1 MB 7.7 MB/s eta 0:00:03\n",
      "   ------ --------------------------------- 4.0/25.1 MB 9.2 MB/s eta 0:00:03\n",
      "   ------- -------------------------------- 4.9/25.1 MB 10.1 MB/s eta 0:00:03\n",
      "   --------- ------------------------------ 5.9/25.1 MB 11.0 MB/s eta 0:00:02\n",
      "   ---------- ----------------------------- 6.6/25.1 MB 11.4 MB/s eta 0:00:02\n",
      "   ----------- ---------------------------- 7.5/25.1 MB 11.9 MB/s eta 0:00:02\n",
      "   ------------- -------------------------- 8.3/25.1 MB 12.4 MB/s eta 0:00:02\n",
      "   --------------- ------------------------ 9.5/25.1 MB 13.2 MB/s eta 0:00:02\n",
      "   ---------------- ----------------------- 10.4/25.1 MB 14.9 MB/s eta 0:00:01\n",
      "   ------------------ --------------------- 11.5/25.1 MB 18.2 MB/s eta 0:00:01\n",
      "   -------------------- ------------------- 12.8/25.1 MB 20.5 MB/s eta 0:00:01\n",
      "   --------------------- ------------------ 13.7/25.1 MB 20.5 MB/s eta 0:00:01\n",
      "   ----------------------- ---------------- 14.9/25.1 MB 21.1 MB/s eta 0:00:01\n",
      "   ------------------------- -------------- 15.8/25.1 MB 21.8 MB/s eta 0:00:01\n",
      "   -------------------------- ------------- 16.8/25.1 MB 21.8 MB/s eta 0:00:01\n",
      "   --------------------------- ------------ 17.5/25.1 MB 21.8 MB/s eta 0:00:01\n",
      "   ----------------------------- ---------- 18.3/25.1 MB 22.6 MB/s eta 0:00:01\n",
      "   ------------------------------ --------- 19.3/25.1 MB 21.1 MB/s eta 0:00:01\n",
      "   -------------------------------- ------- 20.1/25.1 MB 21.1 MB/s eta 0:00:01\n",
      "   ---------------------------------- ----- 21.4/25.1 MB 21.8 MB/s eta 0:00:01\n",
      "   ----------------------------------- ---- 22.3/25.1 MB 21.1 MB/s eta 0:00:01\n",
      "   ------------------------------------- -- 23.4/25.1 MB 21.1 MB/s eta 0:00:01\n",
      "   -------------------------------------- - 23.9/25.1 MB 20.5 MB/s eta 0:00:01\n",
      "   ---------------------------------------  24.8/25.1 MB 19.9 MB/s eta 0:00:01\n",
      "   ---------------------------------------  25.1/25.1 MB 19.8 MB/s eta 0:00:01\n",
      "   ---------------------------------------- 25.1/25.1 MB 18.2 MB/s eta 0:00:00\n",
      "Installing collected packages: pyarrow\n",
      "Successfully installed pyarrow-18.0.0\n",
      "Note: you may need to restart the kernel to use updated packages.\n"
     ]
    }
   ],
   "source": [
    "pip install pyarrow\n"
   ]
  },
  {
   "cell_type": "code",
   "execution_count": 11,
   "id": "213b54f0-4718-4b48-a7d1-f35a0b2d0e09",
   "metadata": {},
   "outputs": [
    {
     "name": "stdout",
     "output_type": "stream",
     "text": [
      "Collecting fsspec\n",
      "  Downloading fsspec-2024.10.0-py3-none-any.whl.metadata (11 kB)\n",
      "Downloading fsspec-2024.10.0-py3-none-any.whl (179 kB)\n",
      "   ---------------------------------------- 0.0/179.6 kB ? eta -:--:--\n",
      "   -- ------------------------------------- 10.2/179.6 kB ? eta -:--:--\n",
      "   ------------- -------------------------- 61.4/179.6 kB 1.1 MB/s eta 0:00:01\n",
      "   -------------------------------------- - 174.1/179.6 kB 2.1 MB/s eta 0:00:01\n",
      "   ---------------------------------------- 179.6/179.6 kB 1.5 MB/s eta 0:00:00\n",
      "Installing collected packages: fsspec\n",
      "Successfully installed fsspec-2024.10.0\n",
      "Note: you may need to restart the kernel to use updated packages.\n"
     ]
    }
   ],
   "source": [
    "pip install fsspec"
   ]
  },
  {
   "cell_type": "code",
   "execution_count": null,
   "id": "fc522d82-b837-4125-8545-5801fb52a8c1",
   "metadata": {},
   "outputs": [],
   "source": []
  }
 ],
 "metadata": {
  "kernelspec": {
   "display_name": "Python 3 (ipykernel)",
   "language": "python",
   "name": "python3"
  },
  "language_info": {
   "codemirror_mode": {
    "name": "ipython",
    "version": 3
   },
   "file_extension": ".py",
   "mimetype": "text/x-python",
   "name": "python",
   "nbconvert_exporter": "python",
   "pygments_lexer": "ipython3",
   "version": "3.12.4"
  }
 },
 "nbformat": 4,
 "nbformat_minor": 5
}
